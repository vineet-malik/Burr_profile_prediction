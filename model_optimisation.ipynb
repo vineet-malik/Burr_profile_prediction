{
  "nbformat": 4,
  "nbformat_minor": 0,
  "metadata": {
    "colab": {
      "name": "model_optimisation.ipynb",
      "provenance": []
    },
    "kernelspec": {
      "name": "python3",
      "display_name": "Python 3"
    }
  },
  "cells": [
    {
      "cell_type": "code",
      "metadata": {
        "id": "9SUyw299t0eO",
        "colab_type": "code",
        "colab": {}
      },
      "source": [
        "import tensorflow.compat.v1 as tf\n",
        "tf.disable_v2_behavior()\n",
        "import numpy as np\n",
        "import pandas as pd\n",
        "from datetime import datetime\n",
        "import matplotlib.pyplot as plt\n",
        "\n",
        "%matplotlib inline\n",
        "data = pd.read_csv('/content/dataset_mtp_vineet.csv')\n",
        "N = data.shape[0]\n",
        "P = data.shape[1]\n",
        "data = data.values\n",
        "\n",
        "\n",
        "# Training and test data\n",
        "train_start = 0\n",
        "train_end = int(np.floor(0.7*N))\n",
        "test_start = train_end\n",
        "test_end = N\n",
        "data_train = data[np.arange(train_start, train_end), :]\n",
        "data_test = data[np.arange(test_start, test_end), :]\n",
        "\n",
        "\n",
        "X_train = data_train[:,0:5]\n",
        "y_train = data_train[:,5]\n",
        "X_test = data_test[:,0:5]\n",
        "y_test = data_test[:,5]\n",
        "\n",
        "\n",
        "#import tensorflow.compat.v1 as tf\n",
        "#tf.disable_v2_behavior()\n",
        "\n",
        "\n",
        "# Placeholders of input and output vectors \n",
        "X = tf.placeholder(dtype=tf.float32, shape=[None, P-1])\n",
        "Y = tf.placeholder(dtype=tf.float32, shape=[None])\n",
        "\n",
        "# Model architecture parameters\n",
        "n_neurons_1 = 8\n",
        "n_neurons_2 = 4\n",
        "n_target = 1\n",
        "\n",
        "\n",
        "# Initializers\n",
        "sigma = 1\n",
        "weight_initializer = tf.variance_scaling_initializer(mode=\"fan_avg\", distribution=\"uniform\", scale=sigma)\n",
        "bias_initializer = tf.zeros_initializer()\n",
        "\n",
        "\n",
        "# Layer 1: Variables for weights and biases of hidden layer 1\n",
        "W_hidden_1 = tf.Variable(weight_initializer([P-1, n_neurons_1]))\n",
        "bias_hidden_1 = tf.Variable(bias_initializer([n_neurons_1]))\n",
        "\n",
        "#Layer 2: Variables for weights and biases of hidden layer 2\n",
        "W_hidden_2= tf.Variable(weight_initializer([n_neurons_1, n_neurons_2]))\n",
        "bias_hidden_2=tf.Variable(bias_initializer([n_neurons_2]))\n",
        "\n",
        "# Output layer: Variables for output weights and biases\n",
        "W_out = tf.Variable(weight_initializer([n_neurons_2, n_target]))\n",
        "bias_out = tf.Variable(bias_initializer([n_target]))\n",
        "\n",
        "\n",
        "# Hidden layer\n",
        "hidden_1 = tf.nn.relu(tf.add(tf.matmul(X, W_hidden_1), bias_hidden_1))\n",
        "hidden_2 = tf.nn.relu(tf.add(tf.matmul(hidden_1, W_hidden_2), bias_hidden_2))\n",
        "\n",
        "# Output layer (Transposed)\n",
        "out = tf.nn.sigmoid(tf.transpose(tf.add(tf.matmul(hidden_2, W_out), bias_out)))\n",
        "\n",
        "# Cost function\n",
        "mse = tf.reduce_mean(tf.squared_difference(out, Y))\n",
        "cost = tf.reduce_mean(mse)\n",
        "\n",
        "# Optimizer\n",
        "opt = tf.train.AdamOptimizer().minimize(cost)\n",
        "\n"
      ],
      "execution_count": 0,
      "outputs": []
    },
    {
      "cell_type": "code",
      "metadata": {
        "id": "McQEWniPHOk0",
        "colab_type": "code",
        "outputId": "f60fd863-93d8-45d4-f268-678a264511f9",
        "colab": {
          "base_uri": "https://localhost:8080/",
          "height": 265
        }
      },
      "source": [
        "epoch_vs_mse=[]\n",
        "for epochs in range(50):\n",
        "  # Make Session\n",
        "  net = tf.Session()\n",
        "  # Run initializer\n",
        "  net.run(tf.global_variables_initializer())\n",
        "\n",
        "\n",
        " \n",
        "  # Number of epochs and batch size\n",
        "\n",
        "  batch_size = 10\n",
        "  #epochs=20\n",
        "  for e in range(epochs):\n",
        "\n",
        "      # Shuffle training data\n",
        "      shuffle_indices = np.random.permutation(np.arange(len(y_train)))\n",
        "      X_train = X_train[shuffle_indices]\n",
        "      y_train = y_train[shuffle_indices]\n",
        "\n",
        "      # Minibatch training\n",
        "      for i in range(0, len(y_train) // batch_size):\n",
        "          start = i*batch_size\n",
        "          batch_x = X_train[start:start + batch_size]\n",
        "          batch_y = y_train[start:start + batch_size]\n",
        "          # Run optimizer with batch\n",
        "          net.run(opt, feed_dict={X: batch_x, Y: batch_y})\n",
        "\n",
        "          \n",
        "  # Print final MSE after Training\n",
        "  mse_final = net.run(mse, feed_dict={X: X_test, Y: y_test})\n",
        "  epoch_vs_mse.append(mse_final)\n",
        "\n",
        "# Setup interactive plot\n",
        "plt.ion()\n",
        "fig = plt.figure()\n",
        "ax1 = fig.add_subplot(111)\n",
        "line1, = ax1.plot(epoch_vs_mse)\n",
        "plt.show()"
      ],
      "execution_count": 0,
      "outputs": [
        {
          "output_type": "display_data",
          "data": {
            "image/png": "[encoded data removed]",
            "text/plain": [
              "<Figure size 432x288 with 1 Axes>"
            ]
          },
          "metadata": {
            "tags": [],
            "needs_background": "light"
          }
        }
      ]
    },
    {
      "cell_type": "code",
      "metadata": {
        "id": "4ECIp3pP3mWe",
        "colab_type": "code",
        "colab": {
          "base_uri": "https://localhost:8080/",
          "height": 265
        },
        "outputId": "4b9b99fe-daec-4fec-8853-bf3944bc8747"
      },
      "source": [
        "batch_vs_mse=[]\n",
        "for batch_size in range(1,40):\n",
        "  # Make Session\n",
        "  net = tf.Session()\n",
        "  # Run initializer\n",
        "  net.run(tf.global_variables_initializer())\n",
        "\n",
        "\n",
        "   # Number of epochs and batch size\n",
        "\n",
        "  #batch_size = 10\n",
        "  epochs=30\n",
        "  for e in range(epochs):\n",
        "\n",
        "      # Shuffle training data\n",
        "      shuffle_indices = np.random.permutation(np.arange(len(y_train)))\n",
        "      X_train = X_train[shuffle_indices]\n",
        "      y_train = y_train[shuffle_indices]\n",
        "\n",
        "      # Minibatch training\n",
        "      for i in range(0, len(y_train) // batch_size):\n",
        "          start = i*batch_size\n",
        "          batch_x = X_train[start:start + batch_size]\n",
        "          batch_y = y_train[start:start + batch_size]\n",
        "          # Run optimizer with batch\n",
        "          net.run(opt, feed_dict={X: batch_x, Y: batch_y})\n",
        "\n",
        "          \n",
        "  # Print final MSE after Training\n",
        "  mse_final = net.run(mse, feed_dict={X: X_test, Y: y_test})\n",
        "  batch_vs_mse.append(mse_final)\n",
        "\n",
        "# Setup interactive plot\n",
        "plt.ion()\n",
        "fig = plt.figure()\n",
        "ax1 = fig.add_subplot(111)\n",
        "line1, = ax1.plot(batch_vs_mse)\n",
        "plt.show()"
      ],
      "execution_count": 11,
      "outputs": [
        {
          "output_type": "display_data",
          "data": {
            "image/png": "[encoded data removed]",
            "text/plain": [
              "<Figure size 432x288 with 1 Axes>"
            ]
          },
          "metadata": {
            "tags": [],
            "needs_background": "light"
          }
        }
      ]
    },
    {
      "cell_type": "code",
      "metadata": {
        "id": "1lvr5eKV6bw1",
        "colab_type": "code",
        "colab": {}
      },
      "source": [
        "df1 = pd.DataFrame(batch_vs_mse)"
      ],
      "execution_count": 0,
      "outputs": []
    },
    {
      "cell_type": "code",
      "metadata": {
        "id": "esjD0gbA6tWq",
        "colab_type": "code",
        "colab": {}
      },
      "source": [
        "df1.to_csv('batch_vs_error.csv', index=False)"
      ],
      "execution_count": 0,
      "outputs": []
    },
    {
      "cell_type": "code",
      "metadata": {
        "id": "fsNBkdVn623K",
        "colab_type": "code",
        "colab": {}
      },
      "source": [
        "df2= pd.DataFrame(epoch_vs_mse)"
      ],
      "execution_count": 0,
      "outputs": []
    },
    {
      "cell_type": "code",
      "metadata": {
        "id": "ZPz0M7D77EVb",
        "colab_type": "code",
        "colab": {}
      },
      "source": [
        "df2.to_csv('epoch_vs_error.csv', index=False)"
      ],
      "execution_count": 0,
      "outputs": []
    }
  ]
}